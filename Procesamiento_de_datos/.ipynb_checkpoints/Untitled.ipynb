{
 "cells": [
  {
   "cell_type": "code",
   "execution_count": null,
   "id": "3f7e86dd",
   "metadata": {},
   "outputs": [],
   "source": [
    "\n",
    "print('Hola')"
   ]
  },
  {
   "cell_type": "markdown",
   "id": "cf3a8803",
   "metadata": {},
   "source": [
    "# Introducción a Jupyter\n",
    "## esto es un título mediano\n",
    "#### Esto es un título más pequeño\n",
    "Esto es un texto simple\n",
    "- Está\n",
    "- es\n",
    "- una\n",
    "- lista"
   ]
  },
  {
   "cell_type": "code",
   "execution_count": null,
   "id": "9bca85f1",
   "metadata": {},
   "outputs": [],
   "source": [
    "var1 = 3\n",
    "var2 = 4\n",
    "var1 + var2"
   ]
  },
  {
   "cell_type": "code",
   "execution_count": 1,
   "id": "083a9f02",
   "metadata": {},
   "outputs": [
    {
     "ename": "NameError",
     "evalue": "name 'var1' is not defined",
     "output_type": "error",
     "traceback": [
      "\u001b[0;31m---------------------------------------------------------------------------\u001b[0m",
      "\u001b[0;31mNameError\u001b[0m                                 Traceback (most recent call last)",
      "\u001b[0;32m<ipython-input-1-1b1d3752adce>\u001b[0m in \u001b[0;36m<module>\u001b[0;34m\u001b[0m\n\u001b[0;32m----> 1\u001b[0;31m \u001b[0mvar1\u001b[0m\u001b[0;34m\u001b[0m\u001b[0;34m\u001b[0m\u001b[0m\n\u001b[0m",
      "\u001b[0;31mNameError\u001b[0m: name 'var1' is not defined"
     ]
    }
   ],
   "source": [
    "var1"
   ]
  },
  {
   "cell_type": "code",
   "execution_count": 2,
   "id": "b3ab1cef",
   "metadata": {},
   "outputs": [],
   "source": [
    "var3 = 10"
   ]
  },
  {
   "cell_type": "code",
   "execution_count": 3,
   "id": "0f53d484",
   "metadata": {},
   "outputs": [
    {
     "data": {
      "text/plain": [
       "10"
      ]
     },
     "execution_count": 3,
     "metadata": {},
     "output_type": "execute_result"
    }
   ],
   "source": [
    "var3"
   ]
  },
  {
   "cell_type": "code",
   "execution_count": 4,
   "id": "52270fd3",
   "metadata": {},
   "outputs": [],
   "source": [
    "var2 = 15\n",
    "var3 = 20\n",
    "var4 = 2\n",
    "var4 = 16"
   ]
  },
  {
   "cell_type": "code",
   "execution_count": 5,
   "id": "d8e8a62a",
   "metadata": {},
   "outputs": [
    {
     "ename": "NameError",
     "evalue": "name 'var1' is not defined",
     "output_type": "error",
     "traceback": [
      "\u001b[0;31m---------------------------------------------------------------------------\u001b[0m",
      "\u001b[0;31mNameError\u001b[0m                                 Traceback (most recent call last)",
      "\u001b[0;32m<ipython-input-5-bb6b5f9fce4a>\u001b[0m in \u001b[0;36m<module>\u001b[0;34m\u001b[0m\n\u001b[0;32m----> 1\u001b[0;31m \u001b[0mvar1\u001b[0m \u001b[0;34m+\u001b[0m \u001b[0mvar2\u001b[0m\u001b[0;34m\u001b[0m\u001b[0;34m\u001b[0m\u001b[0m\n\u001b[0m",
      "\u001b[0;31mNameError\u001b[0m: name 'var1' is not defined"
     ]
    }
   ],
   "source": [
    "var1 + var2"
   ]
  },
  {
   "cell_type": "code",
   "execution_count": 7,
   "id": "4bd1d82a",
   "metadata": {},
   "outputs": [
    {
     "data": {
      "text/plain": [
       "4"
      ]
     },
     "execution_count": 7,
     "metadata": {},
     "output_type": "execute_result"
    }
   ],
   "source": [
    "var3 - var4"
   ]
  },
  {
   "cell_type": "code",
   "execution_count": 8,
   "id": "2fdb6a92",
   "metadata": {},
   "outputs": [
    {
     "data": {
      "text/plain": [
       "540"
      ]
     },
     "execution_count": 8,
     "metadata": {},
     "output_type": "execute_result"
    }
   ],
   "source": [
    "var2 * (var3+var4)"
   ]
  },
  {
   "cell_type": "code",
   "execution_count": 9,
   "id": "4a4a6bae",
   "metadata": {},
   "outputs": [
    {
     "name": "stdout",
     "output_type": "stream",
     "text": [
      "4\n"
     ]
    }
   ],
   "source": [
    "print(var3 - var4)"
   ]
  },
  {
   "cell_type": "code",
   "execution_count": 10,
   "id": "9bc23a2e",
   "metadata": {},
   "outputs": [
    {
     "data": {
      "text/plain": [
       "int"
      ]
     },
     "execution_count": 10,
     "metadata": {},
     "output_type": "execute_result"
    }
   ],
   "source": [
    "type(var2)"
   ]
  },
  {
   "cell_type": "code",
   "execution_count": 11,
   "id": "445e45f4",
   "metadata": {},
   "outputs": [
    {
     "data": {
      "text/plain": [
       "float"
      ]
     },
     "execution_count": 11,
     "metadata": {},
     "output_type": "execute_result"
    }
   ],
   "source": [
    "var5 = 10.34\n",
    "type(var5)"
   ]
  },
  {
   "cell_type": "code",
   "execution_count": 12,
   "id": "073ebd70",
   "metadata": {},
   "outputs": [
    {
     "name": "stdout",
     "output_type": "stream",
     "text": [
      "<class 'float'>\n"
     ]
    }
   ],
   "source": [
    "print(type(var5))"
   ]
  },
  {
   "cell_type": "code",
   "execution_count": 13,
   "id": "434edf17",
   "metadata": {},
   "outputs": [
    {
     "name": "stdout",
     "output_type": "stream",
     "text": [
      "La variable es {10.34}\n"
     ]
    }
   ],
   "source": [
    "print(f'La variable es',{var5})"
   ]
  },
  {
   "cell_type": "code",
   "execution_count": 14,
   "id": "65696154",
   "metadata": {},
   "outputs": [],
   "source": [
    "vart = True\n",
    "varf = False"
   ]
  },
  {
   "cell_type": "code",
   "execution_count": 15,
   "id": "16c3b403",
   "metadata": {},
   "outputs": [
    {
     "name": "stdout",
     "output_type": "stream",
     "text": [
      "True\n"
     ]
    }
   ],
   "source": [
    "print(vart)"
   ]
  },
  {
   "cell_type": "code",
   "execution_count": 16,
   "id": "358dbf3c",
   "metadata": {},
   "outputs": [
    {
     "name": "stdout",
     "output_type": "stream",
     "text": [
      "it is Ok\n"
     ]
    }
   ],
   "source": [
    "if 4 < 7:\n",
    "    print('it is Ok')"
   ]
  },
  {
   "cell_type": "code",
   "execution_count": 17,
   "id": "05b7f7dd",
   "metadata": {},
   "outputs": [],
   "source": [
    "# Asigna el número 12345 a una variable llamada variable_locochona\n",
    "\n",
    "# Tu código va aquí...\n",
    "variable_locochona = 12345\n",
    "\n",
    "# Asigna el número 14.567 a una variable llamada var_decimal\n",
    "\n",
    "var_decimal  = 1.3\n",
    "\n",
    "# Asigna cualquier número a una varible que tenga 5 palabras en su nombre (recuerda las convenciones)\n",
    "\n",
    "esto_es_una_variable_prueba = 1\n",
    "\n",
    "# Asigna cualquier número a una variable que incluya palabras y números en su nombre\n",
    "\n",
    "var_1 = 1400\n",
    "\n",
    "# Asigna variables a discreción\n",
    "\n",
    "var_3   = 1.4\n",
    "var_test = 'Hola Mundo'"
   ]
  },
  {
   "cell_type": "code",
   "execution_count": 18,
   "id": "d9011a6c",
   "metadata": {},
   "outputs": [],
   "source": [
    "var_int = 3.1416\n"
   ]
  },
  {
   "cell_type": "code",
   "execution_count": 19,
   "id": "81176c88",
   "metadata": {},
   "outputs": [
    {
     "name": "stdout",
     "output_type": "stream",
     "text": [
      "3.1416\n"
     ]
    }
   ],
   "source": [
    "print(var_int)"
   ]
  },
  {
   "cell_type": "code",
   "execution_count": 20,
   "id": "8fa0f0b4",
   "metadata": {},
   "outputs": [
    {
     "name": "stdout",
     "output_type": "stream",
     "text": [
      "<class 'float'>\n"
     ]
    }
   ],
   "source": [
    "print(type(var_int))"
   ]
  },
  {
   "cell_type": "code",
   "execution_count": 21,
   "id": "e07f1b86",
   "metadata": {},
   "outputs": [
    {
     "name": "stdout",
     "output_type": "stream",
     "text": [
      "/n\n"
     ]
    }
   ],
   "source": [
    "print('/n')"
   ]
  },
  {
   "cell_type": "code",
   "execution_count": 22,
   "id": "d5383b45",
   "metadata": {},
   "outputs": [
    {
     "name": "stdout",
     "output_type": "stream",
     "text": [
      "\n",
      "\n"
     ]
    }
   ],
   "source": [
    "print('\\n')"
   ]
  },
  {
   "cell_type": "code",
   "execution_count": 23,
   "id": "140be636",
   "metadata": {},
   "outputs": [
    {
     "name": "stdout",
     "output_type": "stream",
     "text": [
      "La suma de las variables(var_100 y var_200) es:2698\n"
     ]
    }
   ],
   "source": [
    "var_100 = 2314\n",
    "var_200 = 384\n",
    "print(f'La suma de las variables(var_100 y var_200) es:{var_100 + var_200}')"
   ]
  },
  {
   "cell_type": "code",
   "execution_count": 24,
   "id": "3bcc06a2",
   "metadata": {},
   "outputs": [
    {
     "name": "stdout",
     "output_type": "stream",
     "text": [
      "La suma de las variables (2314 y 384) es: 2698\n"
     ]
    }
   ],
   "source": [
    "print(f'La suma de las variables ({var_100} y {var_200}) es: {var_100 + var_200}')"
   ]
  },
  {
   "cell_type": "code",
   "execution_count": null,
   "id": "d7c72585",
   "metadata": {},
   "outputs": [],
   "source": []
  }
 ],
 "metadata": {
  "kernelspec": {
   "display_name": "Python 3",
   "language": "python",
   "name": "python3"
  },
  "language_info": {
   "codemirror_mode": {
    "name": "ipython",
    "version": 3
   },
   "file_extension": ".py",
   "mimetype": "text/x-python",
   "name": "python",
   "nbconvert_exporter": "python",
   "pygments_lexer": "ipython3",
   "version": "3.8.8"
  }
 },
 "nbformat": 4,
 "nbformat_minor": 5
}
